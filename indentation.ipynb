{
  "nbformat": 4,
  "nbformat_minor": 0,
  "metadata": {
    "colab": {
      "provenance": []
    },
    "kernelspec": {
      "name": "python3",
      "display_name": "Python 3"
    },
    "language_info": {
      "name": "python"
    }
  },
  "cells": [
    {
      "cell_type": "code",
      "execution_count": null,
      "metadata": {
        "id": "3WoIVHpSzSQu"
      },
      "outputs": [],
      "source": [
        "# Example of indentation in Python\n",
        "\n",
        "def greet(name):\n",
        "    # Indentation inside the function\n",
        "    if name:\n",
        "        print(f\"Hello, {name}!\")\n",
        "    else:\n",
        "        print(\"Hello, stranger!\")\n",
        "\n",
        "def main():\n",
        "    # Indentation inside the main function\n",
        "    name = input(\"Enter your name: \")\n",
        "    greet(name)\n",
        "\n",
        "# The main function is called outside of any other indented block\n",
        "main()\n"
      ]
    }
  ]
}